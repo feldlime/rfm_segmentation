{
 "cells": [
  {
   "cell_type": "code",
   "execution_count": 45,
   "metadata": {},
   "outputs": [],
   "source": [
    "import pandas as pd\n",
    "import numpy as np\n",
    "import matplotlib.pyplot as plt\n",
    "from mpl_toolkits.mplot3d import Axes3D\n",
    "import seaborn as sns\n",
    "%matplotlib inline\n",
    "\n",
    "import re\n",
    "import pyodbc\n",
    "from collections import OrderedDict\n",
    "from itertools import product\n",
    "\n",
    "from sklearn.preprocessing import StandardScaler, MinMaxScaler"
   ]
  },
  {
   "cell_type": "code",
   "execution_count": 6,
   "metadata": {},
   "outputs": [],
   "source": [
    "def get_rfm_query(typ, count=1000):\n",
    "    query = \"\"\"\n",
    "            select {top} c.Id CustId\n",
    "                ,{field}\n",
    "\n",
    "                from directcrm.Customers c\n",
    "                    join directcrm.CustomerActions ca on c.Id = ca.CustomerId\n",
    "                    join directcrm.RetailOrders ro on ca.Id = ro.FirstCustomerActionId\n",
    "                    join directcrm.RetailOrderHistory roh on ro.Id = roh.OrderId\n",
    "                    join directcrm.RetailPurchaseHistory rph on roh.id = rph.OrderHistoryItemId\n",
    "                    join directcrm.RetailPurchaseStatuses rps on rph.StatusId = rps.Id\n",
    "\n",
    "                where rps.CategorySystemName not in ('Returned','Cancelled','InCart') and roh.IsCurrentOtherwiseNull = 1\n",
    "\n",
    "                group by c.Id\n",
    "\n",
    "                order by c.Id\n",
    "            \"\"\"\n",
    "    \n",
    "    fields = {'r': 'DateDiff(hh, Max(ca.DateTimeUtc), GetDate()) Recency_hours',\n",
    "              'f': 'Count(ca.Id) CountActions',\n",
    "              'm': 'Sum(roh.EffectivePayedAmount) Amount'}\n",
    "    \n",
    "    top = ''\n",
    "    if count is not None:\n",
    "        top = \"top({})\".format(count)\n",
    "    \n",
    "    query = query.format(top=top, field=fields[typ])\n",
    "    return query\n",
    "\n",
    "\n",
    "def get_rfm_data(cnxn, typ, count=1000):\n",
    "    cursor = cnxn.cursor()\n",
    "    cursor.execute(get_rfm_query(typ, count))\n",
    "    rows = list(map(lambda t: [t[0], t[1]], cursor.fetchall()))\n",
    "    df = pd.DataFrame(rows, columns=['id', 'rfm_{}'.format(typ)])\n",
    "    return df\n",
    "\n",
    "\n",
    "def get_full_rfm_data(count = 100): \n",
    "    cnxn = pyodbc.connect(driver='{SQL Server}',\n",
    "                          server='aurora',\n",
    "                          database='hoff')\n",
    "    data_r = get_rfm_data(cnxn, 'r', count=count)\n",
    "    data_f = get_rfm_data(cnxn, 'f', count=count)\n",
    "    data_m = get_rfm_data(cnxn, 'm', count=count)\n",
    "    cnxn.close()\n",
    "    \n",
    "    if sum (data_r.id != data_f.id) or sum(data_r.id != data_m.id):\n",
    "        raise RuntimeError(\"Не совпадают индексы\")\n",
    "    else:\n",
    "        data = pd.concat([data_r, data_f.drop('id', axis=1), data_m.drop('id', axis=1)], axis=1)\n",
    "    data['rfm_m'] = data['rfm_m'].astype(float)\n",
    "    return data\n",
    "\n",
    "\n",
    "def reduce_tails(data, min_q=0.025, max_q=0.975):\n",
    "    filtered_data = data[(data['rfm_r'] >= data['rfm_r'].quantile(min_q)) &\n",
    "                         (data['rfm_r'] <= data['rfm_r'].quantile(max_q)) &\n",
    "                         (data['rfm_f'] >= data['rfm_f'].quantile(min_q)) &\n",
    "                         (data['rfm_f'] <= data['rfm_f'].quantile(max_q)) &\n",
    "                         (data['rfm_m'] >= data['rfm_m'].quantile(min_q)) &\n",
    "                         (data['rfm_m'] <= data['rfm_m'].quantile(max_q))]\n",
    "    return filtered_data\n",
    "\n",
    "\n",
    "def draw_3d_plot(data, labels=None):\n",
    "    fig = plt.figure()\n",
    "    ax = Axes3D(fig)\n",
    "    \n",
    "    ax.set_xlabel(\"R\")\n",
    "    ax.set_ylabel(\"F\")\n",
    "    ax.set_zlabel(\"M\")\n",
    "    \n",
    "    if labels is None:\n",
    "        x = list(data['rfm_r'])\n",
    "        y = list(data['rfm_f'])\n",
    "        z = list(data['rfm_m'])\n",
    "        ax.scatter(x, y, z)\n",
    "        \n",
    "    else:\n",
    "        for n in np.unique(labels):\n",
    "            indices = kmeans.labels_ == n\n",
    "            x = list(data.loc[indices, 'rfm_r'])\n",
    "            y = list(data.loc[indices, 'rfm_f'])\n",
    "            z = list(data.loc[indices, 'rfm_m'])\n",
    "\n",
    "            c = [[n * 2 % 256, n * 5 % 256, n * 13 % 256]]\n",
    "            ax.scatter(x, y, z)"
   ]
  },
  {
   "cell_type": "code",
   "execution_count": 8,
   "metadata": {},
   "outputs": [],
   "source": [
    "raw_data = get_full_rfm_data(10000)\n",
    "reduced_data = reduce_tails(raw_data.copy(), 0.01, 0.99)"
   ]
  },
  {
   "cell_type": "code",
   "execution_count": null,
   "metadata": {},
   "outputs": [],
   "source": []
  },
  {
   "cell_type": "code",
   "execution_count": null,
   "metadata": {},
   "outputs": [],
   "source": []
  },
  {
   "cell_type": "markdown",
   "metadata": {},
   "source": [
    "# Алгоритмы"
   ]
  },
  {
   "cell_type": "markdown",
   "metadata": {},
   "source": [
    "## Выбор подходящих алгоритмов и метрик"
   ]
  },
  {
   "cell_type": "markdown",
   "metadata": {},
   "source": [
    "### Алгоритмы с заданным числом кластеров\n",
    "\n",
    "**K-means** - классика, без него никуда.\n",
    "Не слишком быстрый, зато простой и понятный.\n",
    "Можно задать число кластеров.\n",
    "\n",
    "**Spectral clustering** - объединенный подход. Хорошо подходит для небольшого числа кластеров. Не очень хорош для большого числа данных.\n",
    "\n",
    "### Алгоритмы без заданного числа кластеров\n",
    "\n",
    "**Affinity Propagation** - ищет похожие объекты.\n",
    "Плохо, что нельзя задать число кластеров.\n",
    "Еще проблема: выбор метрики.\n",
    "**Mean-shift** - То же, но другая мера растояния\n",
    "\n",
    "**Ward hierarchical clustering** \n",
    "\n",
    "**Agglomerative clustering** - самый простой и понятный алгоритм кластеризации без фиксированного числа кластеров.\n",
    "\n",
    "**DBSCAN** - подходит для большого числа данных и среднего числа кластеров\n",
    "\n",
    "**Birch** - вроде неплохо\n",
    "\n",
    "**Gaussian mixtures** - вроде неплохо"
   ]
  },
  {
   "cell_type": "code",
   "execution_count": 12,
   "metadata": {},
   "outputs": [],
   "source": [
    "from sklearn.cluster import KMeans\n"
   ]
  },
  {
   "cell_type": "markdown",
   "metadata": {},
   "source": [
    "### Метрики, не требующие знания истинных меток классов\n",
    "*Пока рассматриваем только их*\n",
    "\n",
    "**Silhouette Coefficient** - силуэт. От -1 до +1.\n",
    "\n",
    "**Calinski-Harabaz Index** - быстро считается"
   ]
  },
  {
   "cell_type": "code",
   "execution_count": 27,
   "metadata": {},
   "outputs": [],
   "source": [
    "from sklearn.metrics import silhouette_score, calinski_harabaz_score"
   ]
  },
  {
   "cell_type": "code",
   "execution_count": 13,
   "metadata": {},
   "outputs": [],
   "source": [
    "data = reduced_data\n",
    "X = data[['rfm_r', 'rfm_f', 'rfm_m']]\n",
    "X_scaled_std = pd.DataFrame(StandardScaler().fit_transform(X), columns=X.columns)\n",
    "X_scaled_mm = pd.DataFrame(MinMaxScaler().fit_transform(X), columns=X.columns)"
   ]
  },
  {
   "cell_type": "code",
   "execution_count": 66,
   "metadata": {},
   "outputs": [],
   "source": [
    "def tuning(X, params, clr, rs=None):\n",
    "    #import ipdb; ipdb.set_trace()\n",
    "    names = list(params.keys())\n",
    "    values_lists = list(params.values())\n",
    "    combs = list(product(*values_lists))\n",
    "    \n",
    "    m1, m2 = [], []\n",
    "    for comb in combs:\n",
    "        kwargs = {name: comb[i] for i, name in enumerate(names)}\n",
    "        labels = clr(**kwargs).fit(X).labels_\n",
    "        m1.append(silhouette_score(X, labels, random_state=rs))\n",
    "        m2.append(calinski_harabaz_score(X, labels))\n",
    "    return combs, m1, m2"
   ]
  },
  {
   "cell_type": "code",
   "execution_count": 47,
   "metadata": {},
   "outputs": [],
   "source": [
    "def choose_best(combs, m1, m2):\n",
    "    best_1, best_2 = np.argmax(m1), np.argmax(m2)\n",
    "    best_comb_1, best_comb_2 = combs[best_1], combs[best_2]\n",
    "    best_res_1, best_res_2 = m1[best_1], m2[best_2]\n",
    "    return {'m1': (best_comb_1, best_res_1), 'm2': (best_comb_2, best_res_2)}"
   ]
  },
  {
   "cell_type": "code",
   "execution_count": 32,
   "metadata": {},
   "outputs": [],
   "source": [
    "def tune_kmeans1(X, n_cl_min=8, n_cl_max=12, rs=None, plot=False):\n",
    "    m1, m2 = OrderedDict(), OrderedDict()\n",
    "    inertias = OrderedDict()\n",
    "    for n in range(n_cl_min, n_cl_max + 1):\n",
    "        model = KMeans(n_clusters=n, random_state=rs).fit(X)\n",
    "        m1[n] = silhouette_score(X, model.labels_, random_state=rs)\n",
    "        m2[n] = calinski_harabaz_score(X, model.labels_)\n",
    "        inertias[n] = model.inertia_\n",
    "    if plot:\n",
    "        plt.plot(inertias.keys(), inertias.values())\n",
    "    return m1, m2"
   ]
  },
  {
   "cell_type": "code",
   "execution_count": null,
   "metadata": {},
   "outputs": [],
   "source": []
  },
  {
   "cell_type": "code",
   "execution_count": null,
   "metadata": {},
   "outputs": [],
   "source": []
  },
  {
   "cell_type": "code",
   "execution_count": 48,
   "metadata": {},
   "outputs": [],
   "source": [
    "rs=17"
   ]
  },
  {
   "cell_type": "code",
   "execution_count": 67,
   "metadata": {},
   "outputs": [],
   "source": [
    "params = {'n_clusters': list(range(9, 10 + 1)),\n",
    "                  'random_state': [17]}\n",
    "\n",
    "combs, m1, m2 = tuning(X, params, KMeans, rs=rs)"
   ]
  },
  {
   "cell_type": "code",
   "execution_count": 68,
   "metadata": {},
   "outputs": [
    {
     "data": {
      "text/plain": [
       "([(9, 17), (10, 17)],\n",
       " [0.6162151582279174, 0.5852100665225586],\n",
       " [71426.00663039788, 77187.5485512959])"
      ]
     },
     "execution_count": 68,
     "metadata": {},
     "output_type": "execute_result"
    }
   ],
   "source": [
    "combs, m1, m2"
   ]
  },
  {
   "cell_type": "code",
   "execution_count": null,
   "metadata": {},
   "outputs": [],
   "source": []
  },
  {
   "cell_type": "code",
   "execution_count": 33,
   "metadata": {},
   "outputs": [
    {
     "data": {
      "image/png": "[encoded data removed]",
      "text/plain": [
       "<matplotlib.figure.Figure at 0x18e1aedb048>"
      ]
     },
     "metadata": {},
     "output_type": "display_data"
    }
   ],
   "source": [
    "m1, m2 = tune_kmeans(X, 6, 15, rs=17, plot=True)"
   ]
  },
  {
   "cell_type": "code",
   "execution_count": 34,
   "metadata": {},
   "outputs": [
    {
     "data": {
      "text/plain": [
       "[<matplotlib.lines.Line2D at 0x18e1ae53470>]"
      ]
     },
     "execution_count": 34,
     "metadata": {},
     "output_type": "execute_result"
    },
    {
     "data": {
      "image/png": "[encoded data removed]",
      "text/plain": [
       "<matplotlib.figure.Figure at 0x18e1aebbb38>"
      ]
     },
     "metadata": {},
     "output_type": "display_data"
    }
   ],
   "source": [
    "plt.plot(m1.keys(), m1.values())"
   ]
  },
  {
   "cell_type": "code",
   "execution_count": 35,
   "metadata": {},
   "outputs": [
    {
     "data": {
      "text/plain": [
       "[<matplotlib.lines.Line2D at 0x18e1e5530f0>]"
      ]
     },
     "execution_count": 35,
     "metadata": {},
     "output_type": "execute_result"
    },
    {
     "data": {
      "image/png": "[encoded data removed]",
      "text/plain": [
       "<matplotlib.figure.Figure at 0x18e1ae979b0>"
      ]
     },
     "metadata": {},
     "output_type": "display_data"
    }
   ],
   "source": [
    "plt.plot(m2.keys(), m2.values())"
   ]
  },
  {
   "cell_type": "code",
   "execution_count": null,
   "metadata": {},
   "outputs": [],
   "source": []
  },
  {
   "cell_type": "code",
   "execution_count": 36,
   "metadata": {},
   "outputs": [
    {
     "data": {
      "image/png": "[encoded data removed]",
      "text/plain": [
       "<matplotlib.figure.Figure at 0x18e1af155f8>"
      ]
     },
     "metadata": {},
     "output_type": "display_data"
    }
   ],
   "source": [
    "m1, m2 = tune_kmeans(X_scaled_mm, 6, 15, rs=17, plot=True)"
   ]
  },
  {
   "cell_type": "code",
   "execution_count": 37,
   "metadata": {},
   "outputs": [
    {
     "data": {
      "text/plain": [
       "[<matplotlib.lines.Line2D at 0x18e1e5a7860>]"
      ]
     },
     "execution_count": 37,
     "metadata": {},
     "output_type": "execute_result"
    },
    {
     "data": {
      "image/png": "[encoded data removed]",
      "text/plain": [
       "<matplotlib.figure.Figure at 0x18e1e5c8a90>"
      ]
     },
     "metadata": {},
     "output_type": "display_data"
    }
   ],
   "source": [
    "plt.plot(m1.keys(), m1.values())"
   ]
  },
  {
   "cell_type": "code",
   "execution_count": 38,
   "metadata": {},
   "outputs": [
    {
     "data": {
      "text/plain": [
       "[<matplotlib.lines.Line2D at 0x18e1aedb780>]"
      ]
     },
     "execution_count": 38,
     "metadata": {},
     "output_type": "execute_result"
    },
    {
     "data": {
      "image/png": "[encoded data removed]",
      "text/plain": [
       "<matplotlib.figure.Figure at 0x18e1e57db70>"
      ]
     },
     "metadata": {},
     "output_type": "display_data"
    }
   ],
   "source": [
    "plt.plot(m2.keys(), m2.values())"
   ]
  },
  {
   "cell_type": "code",
   "execution_count": null,
   "metadata": {},
   "outputs": [],
   "source": []
  }
 ],
 "metadata": {
  "kernelspec": {
   "display_name": "Python 3",
   "language": "python",
   "name": "python3"
  },
  "language_info": {
   "codemirror_mode": {
    "name": "ipython",
    "version": 3
   },
   "file_extension": ".py",
   "mimetype": "text/x-python",
   "name": "python",
   "nbconvert_exporter": "python",
   "pygments_lexer": "ipython3",
   "version": "3.6.4"
  }
 },
 "nbformat": 4,
 "nbformat_minor": 2
}
